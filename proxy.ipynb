{
 "cells": [
  {
   "cell_type": "markdown",
   "source": "![](mbasterd_logo_git.png)",
   "metadata": {
    "cell_id": "768e80c4715d4c57bfd6f0cd930707bf",
    "deepnote_app_coordinates": {
     "x": 0,
     "y": 37,
     "w": 12,
     "h": 5
    },
    "deepnote_cell_type": "markdown",
    "deepnote_cell_height": 302
   }
  },
  {
   "cell_type": "code",
   "metadata": {
    "execution": {
     "iopub.execute_input": "2022-09-09T12:59:26.396345Z",
     "iopub.status.busy": "2022-09-09T12:59:26.396345Z",
     "iopub.status.idle": "2022-09-09T12:59:26.414689Z",
     "shell.execute_reply": "2022-09-09T12:59:26.413692Z",
     "shell.execute_reply.started": "2022-09-09T12:59:26.396345Z"
    },
    "cell_id": "4c27bcc3-49a5-46d1-a69b-416b74b12f8c",
    "deepnote_to_be_reexecuted": false,
    "source_hash": "9f84db39",
    "execution_start": 1662731007718,
    "execution_millis": 872,
    "deepnote_app_coordinates": {
     "x": 0,
     "y": 1,
     "w": 12,
     "h": 5
    },
    "deepnote_cell_type": "code",
    "deepnote_cell_height": 148.1875,
    "deepnote_output_heights": [
     20.1875
    ]
   },
   "source": "'''Project for download ilimit with MegaBasterdWINDOWS_7.55 using option Smartproxy'''\n\n# link DataSet Proxy https://www.megaproxylist.net/",
   "execution_count": 1,
   "outputs": [
    {
     "output_type": "execute_result",
     "execution_count": 1,
     "data": {
      "text/plain": "'Project for download ilimit with MegaBasterdWINDOWS_7.55 using option Smartproxy'"
     },
     "metadata": {}
    }
   ]
  },
  {
   "cell_type": "code",
   "source": "import pandas as pd\n\ndata = r\"megaproxylist.csv\"\ndf = pd.read_csv(data, delimiter=';', error_bad_lines=False, low_memory=False) ### on_bad_lines='skip' for pandas > 1.3\ndf.head()",
   "metadata": {
    "execution": {
     "iopub.execute_input": "2022-09-09T13:01:18.049798Z",
     "iopub.status.busy": "2022-09-09T13:01:18.049798Z",
     "iopub.status.idle": "2022-09-09T13:01:18.077773Z",
     "shell.execute_reply": "2022-09-09T13:01:18.076776Z",
     "shell.execute_reply.started": "2022-09-09T13:01:18.049798Z"
    },
    "tags": [],
    "cell_id": "00001-8d8854b3-c5cd-4c04-adc4-237c4afd2810",
    "deepnote_to_be_reexecuted": false,
    "source_hash": "628fbc50",
    "execution_start": 1662731007761,
    "execution_millis": 837,
    "deepnote_app_coordinates": {
     "x": 0,
     "y": 7,
     "w": 12,
     "h": 5
    },
    "deepnote_cell_type": "code",
    "deepnote_cell_height": 467
   },
   "execution_count": 2,
   "outputs": [
    {
     "output_type": "execute_result",
     "execution_count": 2,
     "data": {
      "application/vnd.deepnote.dataframe.v3+json": {
       "column_count": 4,
       "row_count": 5,
       "columns": [
        {
         "name": "IP",
         "dtype": "object",
         "stats": {
          "unique_count": 5,
          "nan_count": 0,
          "categories": [
           {
            "name": "static.139.102.4.46.clients.your-server.de",
            "count": 1
           },
           {
            "name": "li548-65.members.linode.com",
            "count": 1
           },
           {
            "name": "3 others",
            "count": 3
           }
          ]
         }
        },
        {
         "name": "PORT",
         "dtype": "object",
         "stats": {
          "unique_count": 1,
          "nan_count": 0,
          "categories": [
           {
            "name": "80",
            "count": 5
           }
          ]
         }
        },
        {
         "name": "COUNTRY",
         "dtype": "object",
         "stats": {
          "unique_count": 4,
          "nan_count": 0,
          "categories": [
           {
            "name": "DE",
            "count": 2
           },
           {
            "name": "GB",
            "count": 1
           },
           {
            "name": "2 others",
            "count": 2
           }
          ]
         }
        },
        {
         "name": "RELIABILITY",
         "dtype": "object",
         "stats": {
          "unique_count": 1,
          "nan_count": 0,
          "categories": [
           {
            "name": "100%",
            "count": 5
           }
          ]
         }
        },
        {
         "name": "_deepnote_index_column",
         "dtype": "int64"
        }
       ],
       "rows": [
        {
         "IP": "static.139.102.4.46.clients.your-server.de",
         "PORT": "80",
         "COUNTRY": "DE",
         "RELIABILITY": "100%",
         "_deepnote_index_column": "0"
        },
        {
         "IP": "li548-65.members.linode.com",
         "PORT": "80",
         "COUNTRY": "GB",
         "RELIABILITY": "100%",
         "_deepnote_index_column": "1"
        },
        {
         "IP": "electronexim.elatomo.com",
         "PORT": "80",
         "COUNTRY": "-",
         "RELIABILITY": "100%",
         "_deepnote_index_column": "2"
        },
        {
         "IP": "ec2-54-153-87-94.us-west-1.compute.amazonaws.com",
         "PORT": "80",
         "COUNTRY": "US",
         "RELIABILITY": "100%",
         "_deepnote_index_column": "3"
        },
        {
         "IP": "cpanel.luxten.com",
         "PORT": "80",
         "COUNTRY": "DE",
         "RELIABILITY": "100%",
         "_deepnote_index_column": "4"
        }
       ]
      },
      "text/plain": "                                                 IP PORT COUNTRY RELIABILITY\n0        static.139.102.4.46.clients.your-server.de   80      DE        100%\n1                       li548-65.members.linode.com   80      GB        100%\n2                          electronexim.elatomo.com   80       -        100%\n3  ec2-54-153-87-94.us-west-1.compute.amazonaws.com   80      US        100%\n4                                 cpanel.luxten.com   80      DE        100%",
      "text/html": "<div>\n<style scoped>\n    .dataframe tbody tr th:only-of-type {\n        vertical-align: middle;\n    }\n\n    .dataframe tbody tr th {\n        vertical-align: top;\n    }\n\n    .dataframe thead th {\n        text-align: right;\n    }\n</style>\n<table border=\"1\" class=\"dataframe\">\n  <thead>\n    <tr style=\"text-align: right;\">\n      <th></th>\n      <th>IP</th>\n      <th>PORT</th>\n      <th>COUNTRY</th>\n      <th>RELIABILITY</th>\n    </tr>\n  </thead>\n  <tbody>\n    <tr>\n      <th>0</th>\n      <td>static.139.102.4.46.clients.your-server.de</td>\n      <td>80</td>\n      <td>DE</td>\n      <td>100%</td>\n    </tr>\n    <tr>\n      <th>1</th>\n      <td>li548-65.members.linode.com</td>\n      <td>80</td>\n      <td>GB</td>\n      <td>100%</td>\n    </tr>\n    <tr>\n      <th>2</th>\n      <td>electronexim.elatomo.com</td>\n      <td>80</td>\n      <td>-</td>\n      <td>100%</td>\n    </tr>\n    <tr>\n      <th>3</th>\n      <td>ec2-54-153-87-94.us-west-1.compute.amazonaws.com</td>\n      <td>80</td>\n      <td>US</td>\n      <td>100%</td>\n    </tr>\n    <tr>\n      <th>4</th>\n      <td>cpanel.luxten.com</td>\n      <td>80</td>\n      <td>DE</td>\n      <td>100%</td>\n    </tr>\n  </tbody>\n</table>\n</div>"
     },
     "metadata": {}
    }
   ]
  },
  {
   "cell_type": "code",
   "metadata": {
    "execution": {
     "iopub.execute_input": "2022-09-09T12:24:51.370748Z",
     "iopub.status.busy": "2022-09-09T12:24:51.369749Z",
     "iopub.status.idle": "2022-09-09T12:24:51.751668Z",
     "shell.execute_reply": "2022-09-09T12:24:51.750668Z",
     "shell.execute_reply.started": "2022-09-09T12:24:51.370748Z"
    },
    "tags": [],
    "cell_id": "00002-4174ff52-7f80-4c12-b139-0cbdf300356d",
    "deepnote_to_be_reexecuted": false,
    "source_hash": "de1e323c",
    "execution_start": 1662731008580,
    "execution_millis": 19,
    "deepnote_app_coordinates": {
     "x": 0,
     "y": 13,
     "w": 12,
     "h": 5
    },
    "deepnote_cell_type": "code",
    "deepnote_cell_height": 306
   },
   "source": "df.info()",
   "execution_count": 3,
   "outputs": [
    {
     "name": "stdout",
     "text": "<class 'pandas.core.frame.DataFrame'>\nRangeIndex: 633401 entries, 0 to 633400\nData columns (total 4 columns):\n #   Column       Non-Null Count   Dtype \n---  ------       --------------   ----- \n 0   IP           633401 non-null  object\n 1   PORT         633401 non-null  object\n 2   COUNTRY      633398 non-null  object\n 3   RELIABILITY  633401 non-null  object\ndtypes: object(4)\nmemory usage: 19.3+ MB\n",
     "output_type": "stream"
    }
   ]
  },
  {
   "cell_type": "code",
   "metadata": {
    "execution": {
     "iopub.execute_input": "2022-09-09T12:25:29.359332Z",
     "iopub.status.busy": "2022-09-09T12:25:29.358268Z",
     "iopub.status.idle": "2022-09-09T12:25:29.510987Z",
     "shell.execute_reply": "2022-09-09T12:25:29.509983Z",
     "shell.execute_reply.started": "2022-09-09T12:25:29.359332Z"
    },
    "cell_id": "00003-e0db15d8-90e1-404d-a406-2ca493fae6b9",
    "deepnote_to_be_reexecuted": false,
    "source_hash": "2e836fd0",
    "execution_start": 1662731008641,
    "execution_millis": 166,
    "deepnote_app_coordinates": {
     "x": 0,
     "y": 19,
     "w": 12,
     "h": 5
    },
    "deepnote_cell_type": "code",
    "deepnote_cell_height": 341.375,
    "deepnote_output_heights": [
     231.375
    ]
   },
   "source": "df['IP:PORT'] = df['IP'] + ':' + df['PORT'] \ndf['IP:PORT']",
   "execution_count": 4,
   "outputs": [
    {
     "output_type": "execute_result",
     "execution_count": 4,
     "data": {
      "text/plain": "0             static.139.102.4.46.clients.your-server.de:80\n1                            li548-65.members.linode.com:80\n2                               electronexim.elatomo.com:80\n3         ec2-54-153-87-94.us-west-1.compute.amazonaws.c...\n4                                      cpanel.luxten.com:80\n                                ...                        \n633396                                   01.10.248.244:8080\n633397                                   01.10.188.202:8080\n633398                             006.inverso.unam.mx:8080\n633399                                    005.2.72.101:3128\n633400                               0.ip-51-38-235.eu:3128\nName: IP:PORT, Length: 633401, dtype: object"
     },
     "metadata": {}
    }
   ]
  },
  {
   "cell_type": "code",
   "metadata": {
    "execution": {
     "iopub.execute_input": "2022-09-09T12:25:44.276310Z",
     "iopub.status.busy": "2022-09-09T12:25:44.275310Z",
     "iopub.status.idle": "2022-09-09T12:25:44.296918Z",
     "shell.execute_reply": "2022-09-09T12:25:44.295915Z",
     "shell.execute_reply.started": "2022-09-09T12:25:44.276310Z"
    },
    "cell_id": "00004-2900dccf-38a4-4756-b574-bafa958a9e7a",
    "deepnote_to_be_reexecuted": false,
    "source_hash": "c085b6ba",
    "execution_start": 1662731008806,
    "execution_millis": 1,
    "deepnote_app_coordinates": {
     "x": 0,
     "y": 25,
     "w": 12,
     "h": 5
    },
    "deepnote_cell_type": "code",
    "deepnote_cell_height": 390,
    "deepnote_output_heights": [
     176
    ]
   },
   "source": "df.head()",
   "execution_count": 5,
   "outputs": [
    {
     "output_type": "execute_result",
     "execution_count": 5,
     "data": {
      "application/vnd.deepnote.dataframe.v3+json": {
       "column_count": 5,
       "row_count": 5,
       "columns": [
        {
         "name": "IP",
         "dtype": "object",
         "stats": {
          "unique_count": 5,
          "nan_count": 0,
          "categories": [
           {
            "name": "static.139.102.4.46.clients.your-server.de",
            "count": 1
           },
           {
            "name": "li548-65.members.linode.com",
            "count": 1
           },
           {
            "name": "3 others",
            "count": 3
           }
          ]
         }
        },
        {
         "name": "PORT",
         "dtype": "object",
         "stats": {
          "unique_count": 1,
          "nan_count": 0,
          "categories": [
           {
            "name": "80",
            "count": 5
           }
          ]
         }
        },
        {
         "name": "COUNTRY",
         "dtype": "object",
         "stats": {
          "unique_count": 4,
          "nan_count": 0,
          "categories": [
           {
            "name": "DE",
            "count": 2
           },
           {
            "name": "GB",
            "count": 1
           },
           {
            "name": "2 others",
            "count": 2
           }
          ]
         }
        },
        {
         "name": "RELIABILITY",
         "dtype": "object",
         "stats": {
          "unique_count": 1,
          "nan_count": 0,
          "categories": [
           {
            "name": "100%",
            "count": 5
           }
          ]
         }
        },
        {
         "name": "IP:PORT",
         "dtype": "object",
         "stats": {
          "unique_count": 5,
          "nan_count": 0,
          "categories": [
           {
            "name": "static.139.102.4.46.clients.your-server.de:80",
            "count": 1
           },
           {
            "name": "li548-65.members.linode.com:80",
            "count": 1
           },
           {
            "name": "3 others",
            "count": 3
           }
          ]
         }
        },
        {
         "name": "_deepnote_index_column",
         "dtype": "int64"
        }
       ],
       "rows": [
        {
         "IP": "static.139.102.4.46.clients.your-server.de",
         "PORT": "80",
         "COUNTRY": "DE",
         "RELIABILITY": "100%",
         "IP:PORT": "static.139.102.4.46.clients.your-server.de:80",
         "_deepnote_index_column": "0"
        },
        {
         "IP": "li548-65.members.linode.com",
         "PORT": "80",
         "COUNTRY": "GB",
         "RELIABILITY": "100%",
         "IP:PORT": "li548-65.members.linode.com:80",
         "_deepnote_index_column": "1"
        },
        {
         "IP": "electronexim.elatomo.com",
         "PORT": "80",
         "COUNTRY": "-",
         "RELIABILITY": "100%",
         "IP:PORT": "electronexim.elatomo.com:80",
         "_deepnote_index_column": "2"
        },
        {
         "IP": "ec2-54-153-87-94.us-west-1.compute.amazonaws.com",
         "PORT": "80",
         "COUNTRY": "US",
         "RELIABILITY": "100%",
         "IP:PORT": "ec2-54-153-87-94.us-west-1.compute.amazonaws.com:80",
         "_deepnote_index_column": "3"
        },
        {
         "IP": "cpanel.luxten.com",
         "PORT": "80",
         "COUNTRY": "DE",
         "RELIABILITY": "100%",
         "IP:PORT": "cpanel.luxten.com:80",
         "_deepnote_index_column": "4"
        }
       ]
      },
      "text/plain": "                                                 IP PORT COUNTRY RELIABILITY  \\\n0        static.139.102.4.46.clients.your-server.de   80      DE        100%   \n1                       li548-65.members.linode.com   80      GB        100%   \n2                          electronexim.elatomo.com   80       -        100%   \n3  ec2-54-153-87-94.us-west-1.compute.amazonaws.com   80      US        100%   \n4                                 cpanel.luxten.com   80      DE        100%   \n\n                                             IP:PORT  \n0      static.139.102.4.46.clients.your-server.de:80  \n1                     li548-65.members.linode.com:80  \n2                        electronexim.elatomo.com:80  \n3  ec2-54-153-87-94.us-west-1.compute.amazonaws.c...  \n4                               cpanel.luxten.com:80  ",
      "text/html": "<div>\n<style scoped>\n    .dataframe tbody tr th:only-of-type {\n        vertical-align: middle;\n    }\n\n    .dataframe tbody tr th {\n        vertical-align: top;\n    }\n\n    .dataframe thead th {\n        text-align: right;\n    }\n</style>\n<table border=\"1\" class=\"dataframe\">\n  <thead>\n    <tr style=\"text-align: right;\">\n      <th></th>\n      <th>IP</th>\n      <th>PORT</th>\n      <th>COUNTRY</th>\n      <th>RELIABILITY</th>\n      <th>IP:PORT</th>\n    </tr>\n  </thead>\n  <tbody>\n    <tr>\n      <th>0</th>\n      <td>static.139.102.4.46.clients.your-server.de</td>\n      <td>80</td>\n      <td>DE</td>\n      <td>100%</td>\n      <td>static.139.102.4.46.clients.your-server.de:80</td>\n    </tr>\n    <tr>\n      <th>1</th>\n      <td>li548-65.members.linode.com</td>\n      <td>80</td>\n      <td>GB</td>\n      <td>100%</td>\n      <td>li548-65.members.linode.com:80</td>\n    </tr>\n    <tr>\n      <th>2</th>\n      <td>electronexim.elatomo.com</td>\n      <td>80</td>\n      <td>-</td>\n      <td>100%</td>\n      <td>electronexim.elatomo.com:80</td>\n    </tr>\n    <tr>\n      <th>3</th>\n      <td>ec2-54-153-87-94.us-west-1.compute.amazonaws.com</td>\n      <td>80</td>\n      <td>US</td>\n      <td>100%</td>\n      <td>ec2-54-153-87-94.us-west-1.compute.amazonaws.c...</td>\n    </tr>\n    <tr>\n      <th>4</th>\n      <td>cpanel.luxten.com</td>\n      <td>80</td>\n      <td>DE</td>\n      <td>100%</td>\n      <td>cpanel.luxten.com:80</td>\n    </tr>\n  </tbody>\n</table>\n</div>"
     },
     "metadata": {}
    }
   ]
  },
  {
   "cell_type": "code",
   "metadata": {
    "execution": {
     "iopub.execute_input": "2022-09-09T13:04:40.214555Z",
     "iopub.status.busy": "2022-09-09T13:04:40.213555Z",
     "iopub.status.idle": "2022-09-09T13:04:40.856214Z",
     "shell.execute_reply": "2022-09-09T13:04:40.854704Z",
     "shell.execute_reply.started": "2022-09-09T13:04:40.214555Z"
    },
    "tags": [],
    "cell_id": "00005-d320341e-e7bd-43f6-929c-c1081cd54790",
    "deepnote_to_be_reexecuted": false,
    "source_hash": "bd8c0310",
    "execution_start": 1662731008823,
    "execution_millis": 205,
    "deepnote_app_coordinates": {
     "x": 0,
     "y": 31,
     "w": 12,
     "h": 5
    },
    "deepnote_cell_type": "code",
    "deepnote_cell_height": 274
   },
   "source": "def write():\n    with open(r'proxies.txt', 'a', encoding='utf-8') as f:\n        for proxie in df['IP:PORT']:\n            f.write(proxie)\n            f.write('\\n')\n\ndef run():\n    write()\n\n\nif __name__ == '__main__':\n    run()",
   "execution_count": 6,
   "outputs": []
  },
  {
   "cell_type": "markdown",
   "source": "![](Captura.png)",
   "metadata": {
    "cell_id": "00006-94d7ae4d-09e5-413f-b2ac-2a96e29000b0",
    "deepnote_app_coordinates": {
     "x": 0,
     "y": 37,
     "w": 12,
     "h": 5
    },
    "deepnote_cell_type": "markdown",
    "deepnote_cell_height": 533.859375
   }
  },
  {
   "cell_type": "markdown",
   "source": "<a style='text-decoration:none;line-height:16px;display:flex;color:#5B5B62;padding:10px;justify-content:end;' href='https://deepnote.com?utm_source=created-in-deepnote-cell&projectId=3adb883f-8282-4b38-aa05-c4f32ac965b0' target=\"_blank\">\n<img alt='Created in deepnote.com' style='display:inline;max-height:16px;margin:0px;margin-right:7.5px;' src='data:image/svg+xml;base64,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' > </img>\nCreated in <span style='font-weight:600;margin-left:4px;'>Deepnote</span></a>",
   "metadata": {
    "tags": [],
    "created_in_deepnote_cell": true,
    "deepnote_cell_type": "markdown"
   }
  }
 ],
 "nbformat": 4,
 "nbformat_minor": 5,
 "metadata": {
  "kernelspec": {
   "display_name": "Python 3 (ipykernel)",
   "language": "python",
   "name": "python3"
  },
  "language_info": {
   "codemirror_mode": {
    "name": "ipython",
    "version": 3
   },
   "file_extension": ".py",
   "mimetype": "text/x-python",
   "name": "python",
   "nbconvert_exporter": "python",
   "pygments_lexer": "ipython3",
   "version": "3.9.13"
  },
  "deepnote_notebook_id": "fe565bd9-4fd8-4be0-acd4-6e7bbdf0b7de",
  "deepnote": {},
  "deepnote_app_layout": "article",
  "deepnote_execution_queue": []
 }
}