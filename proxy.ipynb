{
 "cells": [
  {
   "cell_type": "code",
   "execution_count": null,
   "id": "f745d120-baca-49eb-8dda-4a34eda2b474",
   "metadata": {
    "execution": {
     "iopub.execute_input": "2022-09-09T12:59:26.396345Z",
     "iopub.status.busy": "2022-09-09T12:59:26.396345Z",
     "iopub.status.idle": "2022-09-09T12:59:26.414689Z",
     "shell.execute_reply": "2022-09-09T12:59:26.413692Z",
     "shell.execute_reply.started": "2022-09-09T12:59:26.396345Z"
    }
   },
   "outputs": [
    {
     "data": {
      "text/plain": [
       "'Project for download ilimit with MegaBasterdWINDOWS_7.55 using option Smartproxy'"
      ]
     },
     "execution_count": 30,
     "metadata": {},
     "output_type": "execute_result"
    }
   ],
   "source": [
    "'''Project for download ilimit with MegaBasterdWINDOWS_7.55 using option Smartproxy'''\n",
    "\n",
    "# link DataSet Proxy https://www.megaproxylist.net/"
   ]
  },
  {
   "cell_type": "code",
   "execution_count": 33,
   "id": "18bea704-ec4a-45e8-837e-0d25096387f3",
   "metadata": {
    "execution": {
     "iopub.execute_input": "2022-09-09T13:01:18.049798Z",
     "iopub.status.busy": "2022-09-09T13:01:18.049798Z",
     "iopub.status.idle": "2022-09-09T13:01:18.077773Z",
     "shell.execute_reply": "2022-09-09T13:01:18.076776Z",
     "shell.execute_reply.started": "2022-09-09T13:01:18.049798Z"
    },
    "tags": []
   },
   "outputs": [
    {
     "ename": "FileNotFoundError",
     "evalue": "[Errno 2] No such file or directory: 'C:\\\\Users\\\\Alfonso Zapata\\\\Jupyter\\\\Cursos\\\\Septiembre 2022\\\\limpieza listas proxy\\\\proxy.csv'",
     "output_type": "error",
     "traceback": [
      "\u001b[1;31m---------------------------------------------------------------------------\u001b[0m",
      "\u001b[1;31mFileNotFoundError\u001b[0m                         Traceback (most recent call last)",
      "\u001b[1;32m~\\AppData\\Local\\Temp\\ipykernel_2632\\4066384398.py\u001b[0m in \u001b[0;36m<cell line: 4>\u001b[1;34m()\u001b[0m\n\u001b[0;32m      2\u001b[0m \u001b[1;33m\u001b[0m\u001b[0m\n\u001b[0;32m      3\u001b[0m \u001b[0mdata\u001b[0m \u001b[1;33m=\u001b[0m \u001b[1;34mr\"C:\\Users\\Alfonso Zapata\\Jupyter\\Cursos\\Septiembre 2022\\limpieza listas proxy\\proxy.csv\"\u001b[0m\u001b[1;33m\u001b[0m\u001b[1;33m\u001b[0m\u001b[0m\n\u001b[1;32m----> 4\u001b[1;33m \u001b[0mdf\u001b[0m \u001b[1;33m=\u001b[0m \u001b[0mpd\u001b[0m\u001b[1;33m.\u001b[0m\u001b[0mread_csv\u001b[0m\u001b[1;33m(\u001b[0m\u001b[0mdata\u001b[0m\u001b[1;33m,\u001b[0m \u001b[0mdelimiter\u001b[0m\u001b[1;33m=\u001b[0m\u001b[1;34m';'\u001b[0m\u001b[1;33m,\u001b[0m \u001b[0mon_bad_lines\u001b[0m\u001b[1;33m=\u001b[0m\u001b[1;34m'skip'\u001b[0m\u001b[1;33m,\u001b[0m \u001b[0mlow_memory\u001b[0m\u001b[1;33m=\u001b[0m\u001b[1;32mFalse\u001b[0m\u001b[1;33m)\u001b[0m\u001b[1;33m\u001b[0m\u001b[1;33m\u001b[0m\u001b[0m\n\u001b[0m\u001b[0;32m      5\u001b[0m \u001b[0mdf\u001b[0m\u001b[1;33m.\u001b[0m\u001b[0mhead\u001b[0m\u001b[1;33m(\u001b[0m\u001b[1;33m)\u001b[0m\u001b[1;33m\u001b[0m\u001b[1;33m\u001b[0m\u001b[0m\n",
      "\u001b[1;32mC:\\ProgramData\\Anaconda3\\lib\\site-packages\\pandas\\util\\_decorators.py\u001b[0m in \u001b[0;36mwrapper\u001b[1;34m(*args, **kwargs)\u001b[0m\n\u001b[0;32m    309\u001b[0m                     \u001b[0mstacklevel\u001b[0m\u001b[1;33m=\u001b[0m\u001b[0mstacklevel\u001b[0m\u001b[1;33m,\u001b[0m\u001b[1;33m\u001b[0m\u001b[1;33m\u001b[0m\u001b[0m\n\u001b[0;32m    310\u001b[0m                 )\n\u001b[1;32m--> 311\u001b[1;33m             \u001b[1;32mreturn\u001b[0m \u001b[0mfunc\u001b[0m\u001b[1;33m(\u001b[0m\u001b[1;33m*\u001b[0m\u001b[0margs\u001b[0m\u001b[1;33m,\u001b[0m \u001b[1;33m**\u001b[0m\u001b[0mkwargs\u001b[0m\u001b[1;33m)\u001b[0m\u001b[1;33m\u001b[0m\u001b[1;33m\u001b[0m\u001b[0m\n\u001b[0m\u001b[0;32m    312\u001b[0m \u001b[1;33m\u001b[0m\u001b[0m\n\u001b[0;32m    313\u001b[0m         \u001b[1;32mreturn\u001b[0m \u001b[0mwrapper\u001b[0m\u001b[1;33m\u001b[0m\u001b[1;33m\u001b[0m\u001b[0m\n",
      "\u001b[1;32mC:\\ProgramData\\Anaconda3\\lib\\site-packages\\pandas\\io\\parsers\\readers.py\u001b[0m in \u001b[0;36mread_csv\u001b[1;34m(filepath_or_buffer, sep, delimiter, header, names, index_col, usecols, squeeze, prefix, mangle_dupe_cols, dtype, engine, converters, true_values, false_values, skipinitialspace, skiprows, skipfooter, nrows, na_values, keep_default_na, na_filter, verbose, skip_blank_lines, parse_dates, infer_datetime_format, keep_date_col, date_parser, dayfirst, cache_dates, iterator, chunksize, compression, thousands, decimal, lineterminator, quotechar, quoting, doublequote, escapechar, comment, encoding, encoding_errors, dialect, error_bad_lines, warn_bad_lines, on_bad_lines, delim_whitespace, low_memory, memory_map, float_precision, storage_options)\u001b[0m\n\u001b[0;32m    676\u001b[0m     \u001b[0mkwds\u001b[0m\u001b[1;33m.\u001b[0m\u001b[0mupdate\u001b[0m\u001b[1;33m(\u001b[0m\u001b[0mkwds_defaults\u001b[0m\u001b[1;33m)\u001b[0m\u001b[1;33m\u001b[0m\u001b[1;33m\u001b[0m\u001b[0m\n\u001b[0;32m    677\u001b[0m \u001b[1;33m\u001b[0m\u001b[0m\n\u001b[1;32m--> 678\u001b[1;33m     \u001b[1;32mreturn\u001b[0m \u001b[0m_read\u001b[0m\u001b[1;33m(\u001b[0m\u001b[0mfilepath_or_buffer\u001b[0m\u001b[1;33m,\u001b[0m \u001b[0mkwds\u001b[0m\u001b[1;33m)\u001b[0m\u001b[1;33m\u001b[0m\u001b[1;33m\u001b[0m\u001b[0m\n\u001b[0m\u001b[0;32m    679\u001b[0m \u001b[1;33m\u001b[0m\u001b[0m\n\u001b[0;32m    680\u001b[0m \u001b[1;33m\u001b[0m\u001b[0m\n",
      "\u001b[1;32mC:\\ProgramData\\Anaconda3\\lib\\site-packages\\pandas\\io\\parsers\\readers.py\u001b[0m in \u001b[0;36m_read\u001b[1;34m(filepath_or_buffer, kwds)\u001b[0m\n\u001b[0;32m    573\u001b[0m \u001b[1;33m\u001b[0m\u001b[0m\n\u001b[0;32m    574\u001b[0m     \u001b[1;31m# Create the parser.\u001b[0m\u001b[1;33m\u001b[0m\u001b[1;33m\u001b[0m\u001b[0m\n\u001b[1;32m--> 575\u001b[1;33m     \u001b[0mparser\u001b[0m \u001b[1;33m=\u001b[0m \u001b[0mTextFileReader\u001b[0m\u001b[1;33m(\u001b[0m\u001b[0mfilepath_or_buffer\u001b[0m\u001b[1;33m,\u001b[0m \u001b[1;33m**\u001b[0m\u001b[0mkwds\u001b[0m\u001b[1;33m)\u001b[0m\u001b[1;33m\u001b[0m\u001b[1;33m\u001b[0m\u001b[0m\n\u001b[0m\u001b[0;32m    576\u001b[0m \u001b[1;33m\u001b[0m\u001b[0m\n\u001b[0;32m    577\u001b[0m     \u001b[1;32mif\u001b[0m \u001b[0mchunksize\u001b[0m \u001b[1;32mor\u001b[0m \u001b[0miterator\u001b[0m\u001b[1;33m:\u001b[0m\u001b[1;33m\u001b[0m\u001b[1;33m\u001b[0m\u001b[0m\n",
      "\u001b[1;32mC:\\ProgramData\\Anaconda3\\lib\\site-packages\\pandas\\io\\parsers\\readers.py\u001b[0m in \u001b[0;36m__init__\u001b[1;34m(self, f, engine, **kwds)\u001b[0m\n\u001b[0;32m    930\u001b[0m \u001b[1;33m\u001b[0m\u001b[0m\n\u001b[0;32m    931\u001b[0m         \u001b[0mself\u001b[0m\u001b[1;33m.\u001b[0m\u001b[0mhandles\u001b[0m\u001b[1;33m:\u001b[0m \u001b[0mIOHandles\u001b[0m \u001b[1;33m|\u001b[0m \u001b[1;32mNone\u001b[0m \u001b[1;33m=\u001b[0m \u001b[1;32mNone\u001b[0m\u001b[1;33m\u001b[0m\u001b[1;33m\u001b[0m\u001b[0m\n\u001b[1;32m--> 932\u001b[1;33m         \u001b[0mself\u001b[0m\u001b[1;33m.\u001b[0m\u001b[0m_engine\u001b[0m \u001b[1;33m=\u001b[0m \u001b[0mself\u001b[0m\u001b[1;33m.\u001b[0m\u001b[0m_make_engine\u001b[0m\u001b[1;33m(\u001b[0m\u001b[0mf\u001b[0m\u001b[1;33m,\u001b[0m \u001b[0mself\u001b[0m\u001b[1;33m.\u001b[0m\u001b[0mengine\u001b[0m\u001b[1;33m)\u001b[0m\u001b[1;33m\u001b[0m\u001b[1;33m\u001b[0m\u001b[0m\n\u001b[0m\u001b[0;32m    933\u001b[0m \u001b[1;33m\u001b[0m\u001b[0m\n\u001b[0;32m    934\u001b[0m     \u001b[1;32mdef\u001b[0m \u001b[0mclose\u001b[0m\u001b[1;33m(\u001b[0m\u001b[0mself\u001b[0m\u001b[1;33m)\u001b[0m\u001b[1;33m:\u001b[0m\u001b[1;33m\u001b[0m\u001b[1;33m\u001b[0m\u001b[0m\n",
      "\u001b[1;32mC:\\ProgramData\\Anaconda3\\lib\\site-packages\\pandas\\io\\parsers\\readers.py\u001b[0m in \u001b[0;36m_make_engine\u001b[1;34m(self, f, engine)\u001b[0m\n\u001b[0;32m   1214\u001b[0m             \u001b[1;31m# \"Union[str, PathLike[str], ReadCsvBuffer[bytes], ReadCsvBuffer[str]]\"\u001b[0m\u001b[1;33m\u001b[0m\u001b[1;33m\u001b[0m\u001b[0m\n\u001b[0;32m   1215\u001b[0m             \u001b[1;31m# , \"str\", \"bool\", \"Any\", \"Any\", \"Any\", \"Any\", \"Any\"\u001b[0m\u001b[1;33m\u001b[0m\u001b[1;33m\u001b[0m\u001b[0m\n\u001b[1;32m-> 1216\u001b[1;33m             self.handles = get_handle(  # type: ignore[call-overload]\n\u001b[0m\u001b[0;32m   1217\u001b[0m                 \u001b[0mf\u001b[0m\u001b[1;33m,\u001b[0m\u001b[1;33m\u001b[0m\u001b[1;33m\u001b[0m\u001b[0m\n\u001b[0;32m   1218\u001b[0m                 \u001b[0mmode\u001b[0m\u001b[1;33m,\u001b[0m\u001b[1;33m\u001b[0m\u001b[1;33m\u001b[0m\u001b[0m\n",
      "\u001b[1;32mC:\\ProgramData\\Anaconda3\\lib\\site-packages\\pandas\\io\\common.py\u001b[0m in \u001b[0;36mget_handle\u001b[1;34m(path_or_buf, mode, encoding, compression, memory_map, is_text, errors, storage_options)\u001b[0m\n\u001b[0;32m    784\u001b[0m         \u001b[1;32mif\u001b[0m \u001b[0mioargs\u001b[0m\u001b[1;33m.\u001b[0m\u001b[0mencoding\u001b[0m \u001b[1;32mand\u001b[0m \u001b[1;34m\"b\"\u001b[0m \u001b[1;32mnot\u001b[0m \u001b[1;32min\u001b[0m \u001b[0mioargs\u001b[0m\u001b[1;33m.\u001b[0m\u001b[0mmode\u001b[0m\u001b[1;33m:\u001b[0m\u001b[1;33m\u001b[0m\u001b[1;33m\u001b[0m\u001b[0m\n\u001b[0;32m    785\u001b[0m             \u001b[1;31m# Encoding\u001b[0m\u001b[1;33m\u001b[0m\u001b[1;33m\u001b[0m\u001b[0m\n\u001b[1;32m--> 786\u001b[1;33m             handle = open(\n\u001b[0m\u001b[0;32m    787\u001b[0m                 \u001b[0mhandle\u001b[0m\u001b[1;33m,\u001b[0m\u001b[1;33m\u001b[0m\u001b[1;33m\u001b[0m\u001b[0m\n\u001b[0;32m    788\u001b[0m                 \u001b[0mioargs\u001b[0m\u001b[1;33m.\u001b[0m\u001b[0mmode\u001b[0m\u001b[1;33m,\u001b[0m\u001b[1;33m\u001b[0m\u001b[1;33m\u001b[0m\u001b[0m\n",
      "\u001b[1;31mFileNotFoundError\u001b[0m: [Errno 2] No such file or directory: 'C:\\\\Users\\\\Alfonso Zapata\\\\Jupyter\\\\Cursos\\\\Septiembre 2022\\\\limpieza listas proxy\\\\proxy.csv'"
     ]
    }
   ],
   "source": [
    "import pandas as pd\n",
    "\n",
    "data = r\"proxy.csv\"\n",
    "df = pd.read_csv(data, delimiter=';', on_bad_lines='skip', low_memory=False)\n",
    "df.head()"
   ]
  },
  {
   "cell_type": "code",
   "execution_count": 24,
   "id": "6fdde876-d1ce-42a2-a6d1-e081f317d452",
   "metadata": {
    "execution": {
     "iopub.execute_input": "2022-09-09T12:24:51.370748Z",
     "iopub.status.busy": "2022-09-09T12:24:51.369749Z",
     "iopub.status.idle": "2022-09-09T12:24:51.751668Z",
     "shell.execute_reply": "2022-09-09T12:24:51.750668Z",
     "shell.execute_reply.started": "2022-09-09T12:24:51.370748Z"
    },
    "tags": []
   },
   "outputs": [
    {
     "name": "stdout",
     "output_type": "stream",
     "text": [
      "<class 'pandas.core.frame.DataFrame'>\n",
      "RangeIndex: 633401 entries, 0 to 633400\n",
      "Data columns (total 4 columns):\n",
      " #   Column       Non-Null Count   Dtype \n",
      "---  ------       --------------   ----- \n",
      " 0   IP           633401 non-null  object\n",
      " 1   PORT         633401 non-null  object\n",
      " 2   COUNTRY      633398 non-null  object\n",
      " 3   RELIABILITY  633401 non-null  object\n",
      "dtypes: object(4)\n",
      "memory usage: 19.3+ MB\n"
     ]
    }
   ],
   "source": [
    "df.info()"
   ]
  },
  {
   "cell_type": "code",
   "execution_count": 25,
   "id": "d8292a80-4d35-408a-a2a2-de8d0a7fb725",
   "metadata": {
    "execution": {
     "iopub.execute_input": "2022-09-09T12:25:29.359332Z",
     "iopub.status.busy": "2022-09-09T12:25:29.358268Z",
     "iopub.status.idle": "2022-09-09T12:25:29.510987Z",
     "shell.execute_reply": "2022-09-09T12:25:29.509983Z",
     "shell.execute_reply.started": "2022-09-09T12:25:29.359332Z"
    }
   },
   "outputs": [
    {
     "data": {
      "text/plain": [
       "0             static.139.102.4.46.clients.your-server.de:80\n",
       "1                            li548-65.members.linode.com:80\n",
       "2                               electronexim.elatomo.com:80\n",
       "3         ec2-54-153-87-94.us-west-1.compute.amazonaws.c...\n",
       "4                                      cpanel.luxten.com:80\n",
       "                                ...                        \n",
       "633396                                   01.10.248.244:8080\n",
       "633397                                   01.10.188.202:8080\n",
       "633398                             006.inverso.unam.mx:8080\n",
       "633399                                    005.2.72.101:3128\n",
       "633400                               0.ip-51-38-235.eu:3128\n",
       "Name: IP:PORT, Length: 633401, dtype: object"
      ]
     },
     "execution_count": 25,
     "metadata": {},
     "output_type": "execute_result"
    }
   ],
   "source": [
    "df['IP:PORT'] = df['IP'] + ':' + df['PORT'] \n",
    "df['IP:PORT']"
   ]
  },
  {
   "cell_type": "code",
   "execution_count": 26,
   "id": "96c93fb6-ecc7-4e57-b59e-57880761667f",
   "metadata": {
    "execution": {
     "iopub.execute_input": "2022-09-09T12:25:44.276310Z",
     "iopub.status.busy": "2022-09-09T12:25:44.275310Z",
     "iopub.status.idle": "2022-09-09T12:25:44.296918Z",
     "shell.execute_reply": "2022-09-09T12:25:44.295915Z",
     "shell.execute_reply.started": "2022-09-09T12:25:44.276310Z"
    }
   },
   "outputs": [
    {
     "data": {
      "text/html": [
       "<div>\n",
       "<style scoped>\n",
       "    .dataframe tbody tr th:only-of-type {\n",
       "        vertical-align: middle;\n",
       "    }\n",
       "\n",
       "    .dataframe tbody tr th {\n",
       "        vertical-align: top;\n",
       "    }\n",
       "\n",
       "    .dataframe thead th {\n",
       "        text-align: right;\n",
       "    }\n",
       "</style>\n",
       "<table border=\"1\" class=\"dataframe\">\n",
       "  <thead>\n",
       "    <tr style=\"text-align: right;\">\n",
       "      <th></th>\n",
       "      <th>IP</th>\n",
       "      <th>PORT</th>\n",
       "      <th>COUNTRY</th>\n",
       "      <th>RELIABILITY</th>\n",
       "      <th>IP:PORT</th>\n",
       "    </tr>\n",
       "  </thead>\n",
       "  <tbody>\n",
       "    <tr>\n",
       "      <th>0</th>\n",
       "      <td>static.139.102.4.46.clients.your-server.de</td>\n",
       "      <td>80</td>\n",
       "      <td>DE</td>\n",
       "      <td>100%</td>\n",
       "      <td>static.139.102.4.46.clients.your-server.de:80</td>\n",
       "    </tr>\n",
       "    <tr>\n",
       "      <th>1</th>\n",
       "      <td>li548-65.members.linode.com</td>\n",
       "      <td>80</td>\n",
       "      <td>GB</td>\n",
       "      <td>100%</td>\n",
       "      <td>li548-65.members.linode.com:80</td>\n",
       "    </tr>\n",
       "    <tr>\n",
       "      <th>2</th>\n",
       "      <td>electronexim.elatomo.com</td>\n",
       "      <td>80</td>\n",
       "      <td>-</td>\n",
       "      <td>100%</td>\n",
       "      <td>electronexim.elatomo.com:80</td>\n",
       "    </tr>\n",
       "    <tr>\n",
       "      <th>3</th>\n",
       "      <td>ec2-54-153-87-94.us-west-1.compute.amazonaws.com</td>\n",
       "      <td>80</td>\n",
       "      <td>US</td>\n",
       "      <td>100%</td>\n",
       "      <td>ec2-54-153-87-94.us-west-1.compute.amazonaws.c...</td>\n",
       "    </tr>\n",
       "    <tr>\n",
       "      <th>4</th>\n",
       "      <td>cpanel.luxten.com</td>\n",
       "      <td>80</td>\n",
       "      <td>DE</td>\n",
       "      <td>100%</td>\n",
       "      <td>cpanel.luxten.com:80</td>\n",
       "    </tr>\n",
       "  </tbody>\n",
       "</table>\n",
       "</div>"
      ],
      "text/plain": [
       "                                                 IP PORT COUNTRY RELIABILITY  \\\n",
       "0        static.139.102.4.46.clients.your-server.de   80      DE        100%   \n",
       "1                       li548-65.members.linode.com   80      GB        100%   \n",
       "2                          electronexim.elatomo.com   80       -        100%   \n",
       "3  ec2-54-153-87-94.us-west-1.compute.amazonaws.com   80      US        100%   \n",
       "4                                 cpanel.luxten.com   80      DE        100%   \n",
       "\n",
       "                                             IP:PORT  \n",
       "0      static.139.102.4.46.clients.your-server.de:80  \n",
       "1                     li548-65.members.linode.com:80  \n",
       "2                        electronexim.elatomo.com:80  \n",
       "3  ec2-54-153-87-94.us-west-1.compute.amazonaws.c...  \n",
       "4                               cpanel.luxten.com:80  "
      ]
     },
     "execution_count": 26,
     "metadata": {},
     "output_type": "execute_result"
    }
   ],
   "source": [
    "df.head()"
   ]
  },
  {
   "cell_type": "code",
   "execution_count": 34,
   "id": "f58f0c15-f0c3-4bde-9096-f9accdf7e6a3",
   "metadata": {
    "execution": {
     "iopub.execute_input": "2022-09-09T13:04:40.214555Z",
     "iopub.status.busy": "2022-09-09T13:04:40.213555Z",
     "iopub.status.idle": "2022-09-09T13:04:40.856214Z",
     "shell.execute_reply": "2022-09-09T13:04:40.854704Z",
     "shell.execute_reply.started": "2022-09-09T13:04:40.214555Z"
    },
    "tags": []
   },
   "outputs": [],
   "source": [
    "def write():\n",
    "    with open(r'proxies.txt', 'a', encoding='utf-8') as f:\n",
    "        for proxie in df['IP:PORT']:\n",
    "            f.write(proxie)\n",
    "            f.write('\\n')\n",
    "\n",
    "def run():\n",
    "    write()\n",
    "\n",
    "\n",
    "if __name__ == '__main__':\n",
    "    run()"
   ]
  },
  {
   "cell_type": "markdown",
   "id": "440d0f0e-5566-49b4-b952-121de20a2877",
   "metadata": {},
   "source": [
    "![](Captura.png)"
   ]
  },
  {
   "cell_type": "code",
   "execution_count": null,
   "id": "104964f8-cbae-40d8-8836-a3a95852f017",
   "metadata": {},
   "outputs": [],
   "source": []
  }
 ],
 "metadata": {
  "kernelspec": {
   "display_name": "Python 3 (ipykernel)",
   "language": "python",
   "name": "python3"
  },
  "language_info": {
   "codemirror_mode": {
    "name": "ipython",
    "version": 3
   },
   "file_extension": ".py",
   "mimetype": "text/x-python",
   "name": "python",
   "nbconvert_exporter": "python",
   "pygments_lexer": "ipython3",
   "version": "3.9.13"
  }
 },
 "nbformat": 4,
 "nbformat_minor": 5
}
